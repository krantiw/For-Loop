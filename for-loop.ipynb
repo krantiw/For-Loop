{
 "cells": [
  {
   "cell_type": "markdown",
   "id": "6281ae28",
   "metadata": {},
   "source": [
    "# Basic Level:"
   ]
  },
  {
   "cell_type": "markdown",
   "id": "fe75549d",
   "metadata": {},
   "source": [
    "1. Write a Python program to print the numbers from 1 to 10 using a `for` loop."
   ]
  },
  {
   "cell_type": "code",
   "execution_count": null,
   "id": "d4145825",
   "metadata": {},
   "outputs": [],
   "source": [
    "for i in range(1,11):\n",
    "    print(i)"
   ]
  },
  {
   "cell_type": "markdown",
   "id": "11b95bf7",
   "metadata": {},
   "source": [
    "\n",
    "2. Create a program that calculates the sum of all numbers in a list using a `for` loop."
   ]
  },
  {
   "cell_type": "code",
   "execution_count": null,
   "id": "cd5adb24",
   "metadata": {},
   "outputs": [],
   "source": [
    "sum1=0"
   ]
  },
  {
   "cell_type": "code",
   "execution_count": null,
   "id": "16fbde25",
   "metadata": {},
   "outputs": [],
   "source": [
    "list1 =[3,5,7,8,10,90,100]"
   ]
  },
  {
   "cell_type": "code",
   "execution_count": null,
   "id": "e42f221b",
   "metadata": {},
   "outputs": [],
   "source": [
    "for i in list1:\n",
    "    sum1 = sum1+i\n",
    "sum1"
   ]
  },
  {
   "cell_type": "markdown",
   "id": "66db4921",
   "metadata": {},
   "source": [
    "\n",
    "3. Write a program to print the characters of a string in reverse order using a `for` loop."
   ]
  },
  {
   "cell_type": "code",
   "execution_count": null,
   "id": "e962ad1e",
   "metadata": {},
   "outputs": [],
   "source": [
    "strings= \"PWSkills- Data Science\"\n",
    "new_string =\"\""
   ]
  },
  {
   "cell_type": "code",
   "execution_count": null,
   "id": "1ac072ed",
   "metadata": {},
   "outputs": [],
   "source": [
    "for i in strings:\n",
    "    new_string = i+ new_string\n",
    "    "
   ]
  },
  {
   "cell_type": "code",
   "execution_count": null,
   "id": "11279642",
   "metadata": {},
   "outputs": [],
   "source": [
    "new_string"
   ]
  },
  {
   "cell_type": "markdown",
   "id": "b83698d3",
   "metadata": {},
   "source": [
    "4. Develop a program that finds the factorial of a given number using a `for` loop."
   ]
  },
  {
   "cell_type": "raw",
   "id": "b01640a6",
   "metadata": {},
   "source": [
    "factorial = n*(n-1)*(n-2)*....1"
   ]
  },
  {
   "cell_type": "code",
   "execution_count": null,
   "id": "12ca9b3c",
   "metadata": {},
   "outputs": [],
   "source": [
    "def fact(n):\n",
    "    factorial =1\n",
    "    for i in range(1,(n+1)):\n",
    "        factorial = factorial *i\n",
    "        i = i-1\n",
    "    return factorial"
   ]
  },
  {
   "cell_type": "code",
   "execution_count": null,
   "id": "7e170df6",
   "metadata": {},
   "outputs": [],
   "source": [
    "fact(4)"
   ]
  },
  {
   "cell_type": "code",
   "execution_count": null,
   "id": "76858960",
   "metadata": {},
   "outputs": [],
   "source": [
    "fact(5)"
   ]
  },
  {
   "cell_type": "markdown",
   "id": "aa7ca7fd",
   "metadata": {},
   "source": [
    "\n",
    "5. Create a program to print the multiplication table of a given number using a `for` loop."
   ]
  },
  {
   "cell_type": "code",
   "execution_count": null,
   "id": "ec15c477",
   "metadata": {},
   "outputs": [],
   "source": [
    "def multiplication(num):\n",
    "    for i in range(1,11):\n",
    "        mul = num*i\n",
    "        print(num,\"*\", i, \"=\",mul)"
   ]
  },
  {
   "cell_type": "code",
   "execution_count": null,
   "id": "2790dd8a",
   "metadata": {},
   "outputs": [],
   "source": [
    "multiplication(8)"
   ]
  },
  {
   "cell_type": "markdown",
   "id": "ed0c9d59",
   "metadata": {},
   "source": [
    "\n",
    "6. Write a program that counts the number of even and odd numbers in a list using a `for` loop."
   ]
  },
  {
   "cell_type": "code",
   "execution_count": null,
   "id": "cd872a8a",
   "metadata": {},
   "outputs": [],
   "source": [
    "list2 =[1,4,7,9,13,16,29,28,20,15]"
   ]
  },
  {
   "cell_type": "code",
   "execution_count": null,
   "id": "34a3735c",
   "metadata": {},
   "outputs": [],
   "source": [
    "even_count =0\n",
    "odd_count =0\n",
    "for i in list2:\n",
    "    if i%2 ==0:\n",
    "        even_count = even_count+1\n",
    "    else:\n",
    "        odd_count = odd_count+1"
   ]
  },
  {
   "cell_type": "code",
   "execution_count": null,
   "id": "72d2da0e",
   "metadata": {},
   "outputs": [],
   "source": [
    "even_count"
   ]
  },
  {
   "cell_type": "code",
   "execution_count": null,
   "id": "5122a6ca",
   "metadata": {},
   "outputs": [],
   "source": [
    "odd_count"
   ]
  },
  {
   "cell_type": "markdown",
   "id": "f87a5630",
   "metadata": {},
   "source": [
    "\n",
    "7. Develop a program that prints the squares of numbers from 1 to 5 using a `for` loop."
   ]
  },
  {
   "cell_type": "code",
   "execution_count": null,
   "id": "0044b3ce",
   "metadata": {},
   "outputs": [],
   "source": [
    "for i in range(1,6):\n",
    "    print(i*i)"
   ]
  },
  {
   "cell_type": "markdown",
   "id": "b808ebb1",
   "metadata": {},
   "source": [
    "\n",
    "8. Create a program to find the length of a string without using the `len()` function."
   ]
  },
  {
   "cell_type": "code",
   "execution_count": null,
   "id": "43bd6bc5",
   "metadata": {},
   "outputs": [],
   "source": [
    "sum(list2)"
   ]
  },
  {
   "cell_type": "code",
   "execution_count": null,
   "id": "369f2a4e",
   "metadata": {},
   "outputs": [],
   "source": [
    "length =0\n",
    "for i in list2:\n",
    "    length = length+1\n",
    "length"
   ]
  },
  {
   "cell_type": "markdown",
   "id": "42f510c0",
   "metadata": {},
   "source": [
    "\n",
    "9. Write a program that calculates the average of a list of numbers using a `for` loop."
   ]
  },
  {
   "cell_type": "code",
   "execution_count": null,
   "id": "4c252cf2",
   "metadata": {},
   "outputs": [],
   "source": [
    "def average(listx):\n",
    "    sum1 =0\n",
    "    avg =0\n",
    "    for i in listx:\n",
    "        sum1 = i+sum1\n",
    "        #print(sum1)\n",
    "    length = len(listx)\n",
    "    avg = sum1/length\n",
    "    return avg\n",
    "        "
   ]
  },
  {
   "cell_type": "code",
   "execution_count": null,
   "id": "b20cbcd2",
   "metadata": {},
   "outputs": [],
   "source": [
    "average(list2)"
   ]
  },
  {
   "cell_type": "code",
   "execution_count": null,
   "id": "d4b31eab",
   "metadata": {},
   "outputs": [],
   "source": [
    "average(list1)"
   ]
  },
  {
   "cell_type": "markdown",
   "id": "cc38b27c",
   "metadata": {},
   "source": [
    "10. Develop a program that prints the first `n` Fibonacci numbers using a `for` loop.\n",
    "\n"
   ]
  },
  {
   "cell_type": "code",
   "execution_count": null,
   "id": "efb4b4ae",
   "metadata": {},
   "outputs": [],
   "source": [
    "a =0\n",
    "b =1\n",
    "print(a,b, end =\" \")\n",
    "for i in range(15):\n",
    "    c = a+b\n",
    "    a,b = b,c\n",
    "    print(c, end = \" \")"
   ]
  },
  {
   "cell_type": "code",
   "execution_count": null,
   "id": "f8400e36",
   "metadata": {},
   "outputs": [],
   "source": [
    "fib =[0,1]\n",
    "for i in range(0,15):\n",
    "    fib.append(fib[i]+ fib[i+1])\n",
    "    \n",
    "    \n",
    "fib"
   ]
  },
  {
   "cell_type": "code",
   "execution_count": null,
   "id": "7b2e4b1e",
   "metadata": {},
   "outputs": [],
   "source": []
  },
  {
   "cell_type": "markdown",
   "id": "968f583c",
   "metadata": {},
   "source": [
    "# Intermediate Level:"
   ]
  },
  {
   "cell_type": "markdown",
   "id": "bf48f89f",
   "metadata": {},
   "source": [
    "\n",
    "\n",
    "11. Write a program to check if a given list contains any duplicates using a `for` loop.\n"
   ]
  },
  {
   "cell_type": "code",
   "execution_count": null,
   "id": "b52c24a3",
   "metadata": {},
   "outputs": [],
   "source": [
    "list4 =[1,2,3,1,2,3,4,5,6,1,2,3]\n",
    "new_list= []"
   ]
  },
  {
   "cell_type": "code",
   "execution_count": null,
   "id": "803423ab",
   "metadata": {},
   "outputs": [],
   "source": [
    "for i in list4:\n",
    "    if i not in new_list:\n",
    "        new_list.append(i)\n",
    "    else:\n",
    "        print(i,\" is a duplicate in the list\")"
   ]
  },
  {
   "cell_type": "markdown",
   "id": "c9541019",
   "metadata": {},
   "source": [
    "12. Create a program that prints the prime numbers in a given range using a `for` loop.\n"
   ]
  },
  {
   "cell_type": "code",
   "execution_count": null,
   "id": "decff61a",
   "metadata": {},
   "outputs": [],
   "source": [
    "for i in range(2,20):\n",
    "    for j in range(2,20):\n",
    "        if i%j ==0:\n",
    "            break\n",
    "            \n",
    "    if i ==j:\n",
    "        print(i, end = \" \")"
   ]
  },
  {
   "cell_type": "markdown",
   "id": "1d92c9cb",
   "metadata": {},
   "source": [
    "\n",
    "13. Develop a program that counts the number of vowels in a string using a `for` loop.\n"
   ]
  },
  {
   "cell_type": "code",
   "execution_count": null,
   "id": "367becc2",
   "metadata": {},
   "outputs": [],
   "source": [
    "strings =\"Data Science PWskills\""
   ]
  },
  {
   "cell_type": "code",
   "execution_count": null,
   "id": "1bdfdfec",
   "metadata": {},
   "outputs": [],
   "source": [
    "v_count =0\n",
    "for i in strings:\n",
    "    if i in \"AEIOUaeiou\":\n",
    "        v_count = v_count+1\n",
    "v_count"
   ]
  },
  {
   "cell_type": "markdown",
   "id": "6d33384e",
   "metadata": {},
   "source": [
    "14.Write a program to find the maximum element in a 2D list using a nested for loop."
   ]
  },
  {
   "cell_type": "code",
   "execution_count": null,
   "id": "5c48fbbd",
   "metadata": {},
   "outputs": [],
   "source": [
    "l = [[9,11, 2, 3,10,10], [12,45,4, 5, 6], [7, 8, 9]]\n",
    "l"
   ]
  },
  {
   "cell_type": "code",
   "execution_count": null,
   "id": "af367d39",
   "metadata": {},
   "outputs": [],
   "source": [
    "for i  in l:\n",
    "    #print(i)\n",
    "    print(\"The maximum value in each sublist\", i, \"is\", max(i))"
   ]
  },
  {
   "cell_type": "code",
   "execution_count": null,
   "id": "4a1f77f8",
   "metadata": {},
   "outputs": [],
   "source": [
    "maxi = 0\n",
    "for i in l:\n",
    "    for k in i:\n",
    "        if k >maxi:\n",
    "            maxi = k\n",
    "            break\n",
    "print(maxi)"
   ]
  },
  {
   "cell_type": "markdown",
   "id": "8d475d22",
   "metadata": {},
   "source": [
    "15. Create a program that removes all occurrences of a specific element from a list using a for loop."
   ]
  },
  {
   "cell_type": "code",
   "execution_count": 1,
   "id": "d23e6993",
   "metadata": {},
   "outputs": [
    {
     "name": "stdout",
     "output_type": "stream",
     "text": [
      "The occurance of 7 in the list is: 3 times\n",
      "After removing of 7 from the list [0, 0, 1, 1, 1, 2, 2, 2, 3, 4, 4, 5, 5, 6, 8, 9, 9]\n"
     ]
    }
   ],
   "source": [
    "num =7\n",
    "listx =[0, 0, 1, 1, 1, 2, 2, 2, 3, 4, 4, 5, 5, 6, 7, 7, 7, 8, 9, 9]\n",
    "c = listx.count(num)\n",
    "print(\"The occurance of\",num,\"in the list is:\",c, \"times\")\n",
    "for i in range(c):\n",
    "    listx.remove(num)\n",
    "\n",
    "print(\"After removing of\",num,\"from the list\",listx)"
   ]
  },
  {
   "cell_type": "markdown",
   "id": "02143aa1",
   "metadata": {},
   "source": [
    "16. Develop a program that generates a multiplication table for numbers from 1 to 5 using a nested `for` loop.\n",
    "\n",
    "\n"
   ]
  },
  {
   "cell_type": "code",
   "execution_count": 11,
   "id": "3d1c5921",
   "metadata": {},
   "outputs": [
    {
     "name": "stdout",
     "output_type": "stream",
     "text": [
      "Multiplication of 1\n",
      "1\n",
      "2\n",
      "3\n",
      "4\n",
      "5\n",
      "6\n",
      "7\n",
      "8\n",
      "9\n",
      "10\n",
      "Multiplication of 2\n",
      "2\n",
      "4\n",
      "6\n",
      "8\n",
      "10\n",
      "12\n",
      "14\n",
      "16\n",
      "18\n",
      "20\n",
      "Multiplication of 3\n",
      "3\n",
      "6\n",
      "9\n",
      "12\n",
      "15\n",
      "18\n",
      "21\n",
      "24\n",
      "27\n",
      "30\n",
      "Multiplication of 4\n",
      "4\n",
      "8\n",
      "12\n",
      "16\n",
      "20\n",
      "24\n",
      "28\n",
      "32\n",
      "36\n",
      "40\n",
      "Multiplication of 5\n",
      "5\n",
      "10\n",
      "15\n",
      "20\n",
      "25\n",
      "30\n",
      "35\n",
      "40\n",
      "45\n",
      "50\n"
     ]
    }
   ],
   "source": [
    "for i in range(1,6):\n",
    "    print(\"Multiplication of\",i)\n",
    "    for j in range(1,11):\n",
    "        print(i*j)\n",
    "    \n",
    "        "
   ]
  },
  {
   "cell_type": "markdown",
   "id": "d6a4c8b4",
   "metadata": {},
   "source": [
    "\n",
    "17. Write a program that converts a list of Fahrenheit temperatures to Celsius using a `for` loop.\n"
   ]
  },
  {
   "cell_type": "raw",
   "id": "73192b0e",
   "metadata": {},
   "source": [
    "(°F − 32) × 5/9 = °C"
   ]
  },
  {
   "cell_type": "code",
   "execution_count": 18,
   "id": "f0c68bfc",
   "metadata": {},
   "outputs": [
    {
     "name": "stdout",
     "output_type": "stream",
     "text": [
      "The Farenheit temperature of 32 is : 0.0\n",
      "The Farenheit temperature of 100 is : 37.77777777777778\n",
      "The Farenheit temperature of 94 is : 34.44444444444444\n",
      "The Farenheit temperature of 95 is : 35.0\n",
      "The Farenheit temperature of 96 is : 35.55555555555556\n",
      "The Farenheit temperature of 97 is : 36.111111111111114\n",
      "The Farenheit temperature of 98 is : 36.66666666666667\n",
      "The Farenheit temperature of 99 is : 37.22222222222222\n",
      "The Farenheit temperature of 100 is : 37.77777777777778\n"
     ]
    }
   ],
   "source": [
    "farenheit = [32, 100,94, 95, 96,97,98,99, 100]\n",
    "for i in farenheit:\n",
    "    print(\"The Farenheit temperature of\",i, \"is :\",(i-32)*(5/9))"
   ]
  },
  {
   "cell_type": "markdown",
   "id": "7a09f9c2",
   "metadata": {},
   "source": [
    "\n",
    "18. Create a program to print the common elements from two lists using a `for` loop.\n"
   ]
  },
  {
   "cell_type": "code",
   "execution_count": 22,
   "id": "a9bc7463",
   "metadata": {},
   "outputs": [
    {
     "data": {
      "text/plain": [
       "[0, 3, 6, 9, 12, 15, 18, 21, 24]"
      ]
     },
     "execution_count": 22,
     "metadata": {},
     "output_type": "execute_result"
    }
   ],
   "source": [
    "list1 =[i for i in range(0,25,3)]\n",
    "list1\n"
   ]
  },
  {
   "cell_type": "code",
   "execution_count": 23,
   "id": "d5060f70",
   "metadata": {
    "scrolled": true
   },
   "outputs": [
    {
     "data": {
      "text/plain": [
       "[1, 3, 5, 7, 9, 11, 13, 15, 17, 19, 21, 23]"
      ]
     },
     "execution_count": 23,
     "metadata": {},
     "output_type": "execute_result"
    }
   ],
   "source": [
    "list2 =[i for i in range(1,25,2)]\n",
    "list2"
   ]
  },
  {
   "cell_type": "code",
   "execution_count": 25,
   "id": "753d7e77",
   "metadata": {},
   "outputs": [
    {
     "name": "stdout",
     "output_type": "stream",
     "text": [
      "The common elements are:\n",
      "3\n",
      "9\n",
      "15\n",
      "21\n"
     ]
    }
   ],
   "source": [
    "print(\"The common elements are:\")\n",
    "for i in list1:\n",
    "    if i in list2:\n",
    "        print(i)"
   ]
  },
  {
   "cell_type": "markdown",
   "id": "d5b251f7",
   "metadata": {},
   "source": [
    "\n",
    "19. Develop a program that prints the pattern of right-angled triangles using a `for` loop. Use ‘*’ to draw the\n",
    "pattern\n"
   ]
  },
  {
   "cell_type": "code",
   "execution_count": 29,
   "id": "bcb9fb80",
   "metadata": {},
   "outputs": [
    {
     "name": "stdout",
     "output_type": "stream",
     "text": [
      "*\n",
      "**\n",
      "***\n",
      "****\n",
      "*****\n",
      "******\n"
     ]
    }
   ],
   "source": [
    "for i in range(1,7):\n",
    "    print(\"*\"*i)"
   ]
  },
  {
   "cell_type": "markdown",
   "id": "fc60d769",
   "metadata": {},
   "source": [
    "\n",
    "20. Write a program to find the greatest common divisor (GCD) of two numbers using a `for` loop."
   ]
  },
  {
   "cell_type": "code",
   "execution_count": null,
   "id": "dccc6803",
   "metadata": {},
   "outputs": [],
   "source": [
    "common_divisors =[]\n",
    "def gcd(num1,num2):\n",
    "    small = min(num1,num2)\n",
    "    #print(small)\n",
    "    for i in range(1, small+1):\n",
    "        if (num1 % i ==0 and num2 % i ==0):\n",
    "            common_divisors.append(i)\n",
    "    return \"The GCD of\",num1,num2, \"is:\",common_divisors[-1]\n",
    "            \n",
    "    "
   ]
  },
  {
   "cell_type": "code",
   "execution_count": null,
   "id": "d886e6df",
   "metadata": {},
   "outputs": [],
   "source": [
    "gcd(60,36)"
   ]
  },
  {
   "cell_type": "code",
   "execution_count": null,
   "id": "e02ca790",
   "metadata": {},
   "outputs": [],
   "source": [
    "gcd(144,48)"
   ]
  },
  {
   "cell_type": "code",
   "execution_count": null,
   "id": "3b950b89",
   "metadata": {},
   "outputs": [],
   "source": [
    "gcd(100,60)"
   ]
  },
  {
   "cell_type": "markdown",
   "id": "e52df568",
   "metadata": {},
   "source": [
    "21. Create a program that calculates the sum of the digits of numbers in a list using a list comprehension."
   ]
  },
  {
   "cell_type": "code",
   "execution_count": null,
   "id": "9579a91c",
   "metadata": {},
   "outputs": [],
   "source": [
    "listx =[0, 1,2,3,4,5]"
   ]
  },
  {
   "cell_type": "code",
   "execution_count": null,
   "id": "88037061",
   "metadata": {},
   "outputs": [],
   "source": [
    "total =0\n",
    "[total:=total+i for i in listx][-1]"
   ]
  },
  {
   "cell_type": "code",
   "execution_count": null,
   "id": "6e7702cd",
   "metadata": {},
   "outputs": [],
   "source": [
    "sum([x for x in range(1,10) if x % 2!=0])"
   ]
  },
  {
   "cell_type": "markdown",
   "id": "d32465ce",
   "metadata": {},
   "source": [
    "\n",
    "22. Write a program to find the prime factors of a given number using a `for` loop and list comprehension.\n",
    "\n"
   ]
  },
  {
   "cell_type": "code",
   "execution_count": null,
   "id": "dc6338de",
   "metadata": {},
   "outputs": [],
   "source": []
  },
  {
   "cell_type": "code",
   "execution_count": null,
   "id": "d3f5b5e9",
   "metadata": {},
   "outputs": [],
   "source": []
  },
  {
   "cell_type": "code",
   "execution_count": null,
   "id": "e99e5df6",
   "metadata": {},
   "outputs": [],
   "source": []
  },
  {
   "cell_type": "code",
   "execution_count": null,
   "id": "9de79421",
   "metadata": {},
   "outputs": [],
   "source": []
  },
  {
   "cell_type": "markdown",
   "id": "47764db4",
   "metadata": {},
   "source": [
    "23. Develop a program that extracts unique elements from a list and stores them in a new list using a list\n",
    "comprehension.\n",
    "\n"
   ]
  },
  {
   "cell_type": "code",
   "execution_count": 336,
   "id": "7ae2f7b1",
   "metadata": {},
   "outputs": [],
   "source": [
    "listx =[0, 0, 1, 1, 1, 2, 2, 2, 3, 4, 4, 5, 5, 6, 7, 7, 7, 8, 9, 9]"
   ]
  },
  {
   "cell_type": "code",
   "execution_count": 350,
   "id": "43a8b43f",
   "metadata": {},
   "outputs": [
    {
     "data": {
      "text/plain": [
       "[0, 0, 1, 1, 1, 2, 2, 2, 3, 4, 4, 5, 5, 6, 7, 7, 7, 8, 9, 9]"
      ]
     },
     "execution_count": 350,
     "metadata": {},
     "output_type": "execute_result"
    }
   ],
   "source": [
    "listx"
   ]
  },
  {
   "cell_type": "code",
   "execution_count": 353,
   "id": "9118f412",
   "metadata": {},
   "outputs": [
    {
     "data": {
      "text/plain": [
       "[0, 1, 2, 3, 4, 5, 6, 7, 8, 9]"
      ]
     },
     "execution_count": 353,
     "metadata": {},
     "output_type": "execute_result"
    }
   ],
   "source": [
    "unique_list =[]\n",
    "for i in listx:\n",
    "    if i not in unique_list:\n",
    "        unique_list.append(i)\n",
    "unique_list"
   ]
  },
  {
   "cell_type": "code",
   "execution_count": 357,
   "id": "2f5f72b4",
   "metadata": {
    "scrolled": true
   },
   "outputs": [
    {
     "data": {
      "text/plain": [
       "[0, 1, 2, 3, 4, 5, 6, 7, 8, 9]"
      ]
     },
     "execution_count": 357,
     "metadata": {},
     "output_type": "execute_result"
    }
   ],
   "source": [
    "[i for i in set(listx) ]"
   ]
  },
  {
   "cell_type": "markdown",
   "id": "76aedcd7",
   "metadata": {},
   "source": [
    "24. Create a program that generates a list of all palindromic numbers up to a specified limit using a list\n",
    "comprehension.\n"
   ]
  },
  {
   "cell_type": "code",
   "execution_count": null,
   "id": "4a840b92",
   "metadata": {},
   "outputs": [],
   "source": [
    "def palindrome(num):\n",
    "    if (str(num) == str(num)[::-1]):\n",
    "        print(num,\"is Palindrome\")\n",
    "    else:\n",
    "        print(num, \"isnot Palindrome\")"
   ]
  },
  {
   "cell_type": "code",
   "execution_count": null,
   "id": "832f271b",
   "metadata": {},
   "outputs": [],
   "source": [
    "palindrome(96699669)"
   ]
  },
  {
   "cell_type": "code",
   "execution_count": null,
   "id": "3355f7c4",
   "metadata": {},
   "outputs": [],
   "source": [
    "palindrome(878)"
   ]
  },
  {
   "cell_type": "code",
   "execution_count": 30,
   "id": "7d557ea0",
   "metadata": {},
   "outputs": [
    {
     "name": "stdout",
     "output_type": "stream",
     "text": [
      "[11, 22, 33, 44, 55, 66, 77, 88, 99, 101, 111, 121, 131, 141, 151, 161, 171, 181, 191, 202, 212, 222, 232, 242, 252, 262, 272, 282, 292, 303, 313, 323, 333, 343, 353, 363, 373, 383, 393, 404, 414, 424, 434, 444, 454, 464, 474, 484, 494, 505, 515, 525, 535, 545, 555, 565, 575, 585, 595, 606, 616, 626, 636, 646, 656, 666, 676, 686, 696, 707, 717, 727, 737, 747, 757, 767, 777, 787, 797, 808, 818, 828, 838, 848, 858, 868, 878, 888, 898, 909, 919, 929, 939, 949, 959, 969, 979, 989, 999, 1001, 1111, 1221, 1331, 1441, 1551, 1661, 1771, 1881, 1991, 2002, 2112, 2222, 2332, 2442, 2552, 2662, 2772, 2882, 2992, 3003, 3113, 3223, 3333, 3443, 3553, 3663, 3773, 3883, 3993, 4004, 4114, 4224, 4334, 4444, 4554, 4664, 4774, 4884, 4994, 5005, 5115, 5225, 5335, 5445, 5555, 5665, 5775, 5885, 5995, 6006, 6116, 6226, 6336, 6446, 6556, 6666, 6776, 6886, 6996, 7007, 7117, 7227, 7337, 7447, 7557, 7667, 7777, 7887, 7997, 8008, 8118, 8228, 8338, 8448, 8558, 8668, 8778, 8888, 8998, 9009, 9119, 9229, 9339, 9449, 9559, 9669, 9779, 9889]\n"
     ]
    }
   ],
   "source": [
    "print([x for x in range(11,9999) if str(x) == str(x)[::-1]])"
   ]
  },
  {
   "cell_type": "markdown",
   "id": "8c763e8f",
   "metadata": {},
   "source": [
    "\n",
    "25. Write a program to flatten a nested list using list comprehension.\n",
    "\n"
   ]
  },
  {
   "cell_type": "code",
   "execution_count": 31,
   "id": "611edd5e",
   "metadata": {},
   "outputs": [],
   "source": [
    "list3 =[[4,5,7,0],[5,1,8,0],[5,8]]"
   ]
  },
  {
   "cell_type": "code",
   "execution_count": 32,
   "id": "c0ee5be4",
   "metadata": {},
   "outputs": [
    {
     "data": {
      "text/plain": [
       "[4, 5, 7, 0, 5, 1, 8, 0, 5, 8]"
      ]
     },
     "execution_count": 32,
     "metadata": {},
     "output_type": "execute_result"
    }
   ],
   "source": [
    "flat_list = [i for sub in list3 for i in sub ]\n",
    "flat_list"
   ]
  },
  {
   "cell_type": "markdown",
   "id": "dd0df151",
   "metadata": {},
   "source": [
    "26. Develop a program that computes the sum of even and odd numbers in a list separately using list\n",
    "comprehension.\n"
   ]
  },
  {
   "cell_type": "code",
   "execution_count": null,
   "id": "69b1215e",
   "metadata": {},
   "outputs": [],
   "source": [
    "even_sum = sum([i for i in flat_list if i%2 ==0])\n",
    "odd_sum = sum([i for i in flat_list if i%2 !=0])"
   ]
  },
  {
   "cell_type": "code",
   "execution_count": null,
   "id": "e1042260",
   "metadata": {},
   "outputs": [],
   "source": [
    "even_sum"
   ]
  },
  {
   "cell_type": "code",
   "execution_count": null,
   "id": "107e18b8",
   "metadata": {},
   "outputs": [],
   "source": [
    "odd_sum"
   ]
  },
  {
   "cell_type": "markdown",
   "id": "9870a83c",
   "metadata": {},
   "source": [
    "\n",
    "27. Create a program that generates a list of squares of odd numbers between 1 and 10 using list\n",
    "comprehension.\n"
   ]
  },
  {
   "cell_type": "code",
   "execution_count": 33,
   "id": "8c42cfa6",
   "metadata": {},
   "outputs": [
    {
     "data": {
      "text/plain": [
       "[1, 9, 25, 49, 81]"
      ]
     },
     "execution_count": 33,
     "metadata": {},
     "output_type": "execute_result"
    }
   ],
   "source": [
    "[i**2 for i in range(1,10) if i%2 != 0]"
   ]
  },
  {
   "cell_type": "markdown",
   "id": "4b57e194",
   "metadata": {},
   "source": [
    "\n",
    "28. Write a program that combines two lists into a dictionary using list comprehension.\n"
   ]
  },
  {
   "cell_type": "code",
   "execution_count": 34,
   "id": "7e1d471a",
   "metadata": {},
   "outputs": [],
   "source": [
    "key_list = [\"one\",\"two\",\"three\",\"four\", \"five\"]\n",
    "value_list = [9,10,11,12,13]"
   ]
  },
  {
   "cell_type": "code",
   "execution_count": 35,
   "id": "c5983ce0",
   "metadata": {},
   "outputs": [
    {
     "data": {
      "text/plain": [
       "{'one': 9, 'two': 10, 'three': 11, 'four': 12, 'five': 13}"
      ]
     },
     "execution_count": 35,
     "metadata": {},
     "output_type": "execute_result"
    }
   ],
   "source": [
    "dict(zip(key_list,value_list)) #using Zip method"
   ]
  },
  {
   "cell_type": "code",
   "execution_count": 36,
   "id": "eff8015c",
   "metadata": {},
   "outputs": [
    {
     "data": {
      "text/plain": [
       "{'one': 9, 'two': 10, 'three': 11, 'four': 12, 'five': 13}"
      ]
     },
     "execution_count": 36,
     "metadata": {},
     "output_type": "execute_result"
    }
   ],
   "source": [
    "{key_list[i]:value_list[i] for i in range(len(key_list))}"
   ]
  },
  {
   "cell_type": "markdown",
   "id": "c191dc46",
   "metadata": {},
   "source": [
    "\n",
    "29. Develop a program that extracts the vowels from a string and stores them in a list using list comprehension.\n",
    "\n"
   ]
  },
  {
   "cell_type": "code",
   "execution_count": 37,
   "id": "268c697e",
   "metadata": {},
   "outputs": [],
   "source": [
    "s =\"alpUhYabOoetIs\""
   ]
  },
  {
   "cell_type": "code",
   "execution_count": 38,
   "id": "dd16ac91",
   "metadata": {},
   "outputs": [
    {
     "data": {
      "text/plain": [
       "['a', 'U', 'a', 'O', 'o', 'e', 'I']"
      ]
     },
     "execution_count": 38,
     "metadata": {},
     "output_type": "execute_result"
    }
   ],
   "source": [
    "vowel_list = list(i for i in s if i in \"aeiouAEIOU\")\n",
    "vowel_list"
   ]
  },
  {
   "cell_type": "markdown",
   "id": "e5709153",
   "metadata": {},
   "source": [
    "30. Create a program that removes all non-numeric characters from a list of strings using list comprehension."
   ]
  },
  {
   "cell_type": "code",
   "execution_count": 39,
   "id": "a71d07b0",
   "metadata": {},
   "outputs": [],
   "source": [
    "s_list = [\"2kind\",\"peral45\",\"12val34\",\"345\"]"
   ]
  },
  {
   "cell_type": "code",
   "execution_count": 40,
   "id": "f3c9fae8",
   "metadata": {
    "scrolled": true
   },
   "outputs": [
    {
     "data": {
      "text/plain": [
       "['kind', 'peral', 'val', '']"
      ]
     },
     "execution_count": 40,
     "metadata": {},
     "output_type": "execute_result"
    }
   ],
   "source": [
    "numeric_list = [\"\".join(i for i in element if i.isalpha()) for element in s_list ]\n",
    "numeric_list"
   ]
  },
  {
   "cell_type": "markdown",
   "id": "bfde60d6",
   "metadata": {},
   "source": [
    "Challenge Level:\n",
    "\n",
    "31. Write a program to generate a list of prime numbers using the Sieve of Eratosthenes algorithm and list\n",
    "comprehension."
   ]
  },
  {
   "cell_type": "code",
   "execution_count": 42,
   "id": "dd9c266b",
   "metadata": {},
   "outputs": [
    {
     "data": {
      "text/plain": [
       "[2, 3, 5, 7, 11, 13, 17, 19, 23, 29, 31, 37]"
      ]
     },
     "execution_count": 42,
     "metadata": {},
     "output_type": "execute_result"
    }
   ],
   "source": [
    "non_prime =[]\n",
    "prime =[]\n",
    "num =40\n",
    "\n",
    "for i in range(2, num):\n",
    "    if i not in non_prime:\n",
    "        prime.append(i)\n",
    "        \n",
    "        \n",
    "        for j in range(i*i, num, i): # put all the multiples of i in non_prime list\n",
    "            non_prime.append(j)\n",
    "prime"
   ]
  },
  {
   "cell_type": "markdown",
   "id": "dc1d9e4a",
   "metadata": {},
   "source": [
    "32. Create a program that generates a list of all Pythagorean triplets up to a specified limit using list\n",
    "comprehension."
   ]
  },
  {
   "cell_type": "raw",
   "id": "e0fb60c9",
   "metadata": {},
   "source": [
    ":  a2 + b2 = c2.\n",
    "         3 4 5\n",
    "         8 6 10\n",
    "         5 12 13\n",
    "         15 8 17\n",
    "         12 16 20\n",
    "  a = m2 - n2\n",
    "       b = 2 * m * n\n",
    "       c  = m2 + n2\n",
    "because,\n",
    "       a2 = m4 + n4 – 2 * m2 * n2\n",
    "       b2 = 4 * m2 * n2\n",
    "       c2 = m4 + n4 + 2* m2 * n2\n"
   ]
  },
  {
   "cell_type": "code",
   "execution_count": null,
   "id": "93cada9f",
   "metadata": {},
   "outputs": [],
   "source": [
    "#do it ah it again do iygain"
   ]
  },
  {
   "cell_type": "code",
   "execution_count": null,
   "id": "ff6360dc",
   "metadata": {},
   "outputs": [],
   "source": [
    "limit=int(input(\"Enter upper limit:\"))\n",
    "c=0\n",
    "m=2\n",
    "while(c<limit):\n",
    "    for n in range(1,m+1):\n",
    "        a=m*m-n*n\n",
    "        b=2*m*n\n",
    "        c=m*m+n*n\n",
    "        if(c>limit):\n",
    "            break\n",
    "        if(a==0 or b==0 or c==0):\n",
    "            break\n",
    "        print(a,b,c)\n",
    "    m=m+1"
   ]
  },
  {
   "cell_type": "code",
   "execution_count": null,
   "id": "d35c2f96",
   "metadata": {},
   "outputs": [],
   "source": [
    "square_list = [i**2 for i in range(1,11)]\n",
    "square_list"
   ]
  },
  {
   "cell_type": "code",
   "execution_count": null,
   "id": "4d4ac29b",
   "metadata": {},
   "outputs": [],
   "source": [
    "square_list[2]+square_list[3] == square_list[4]"
   ]
  },
  {
   "cell_type": "code",
   "execution_count": null,
   "id": "443acc5c",
   "metadata": {},
   "outputs": [],
   "source": []
  },
  {
   "cell_type": "markdown",
   "id": "47cdb5b6",
   "metadata": {},
   "source": [
    "33. Develop a program that generates a list of all possible combinations of two lists using list comprehension."
   ]
  },
  {
   "cell_type": "code",
   "execution_count": 316,
   "id": "ef2a395c",
   "metadata": {},
   "outputs": [],
   "source": [
    "list1 = ['a', 'b', 'c', 'd']\n",
    "list2 = [1, 2, 3]"
   ]
  },
  {
   "cell_type": "code",
   "execution_count": 323,
   "id": "62fa5a8d",
   "metadata": {},
   "outputs": [
    {
     "data": {
      "text/plain": [
       "[('a', 1),\n",
       " ('a', 2),\n",
       " ('a', 3),\n",
       " ('b', 1),\n",
       " ('b', 2),\n",
       " ('b', 3),\n",
       " ('c', 1),\n",
       " ('c', 2),\n",
       " ('c', 3),\n",
       " ('d', 1),\n",
       " ('d', 2),\n",
       " ('d', 3)]"
      ]
     },
     "execution_count": 323,
     "metadata": {},
     "output_type": "execute_result"
    }
   ],
   "source": [
    "combinations =[]\n",
    "for i in list1:\n",
    "    for j in list2:\n",
    "        combinations.append((i,j))\n",
    "\n",
    "combinations        "
   ]
  },
  {
   "cell_type": "code",
   "execution_count": 312,
   "id": "cc6db316",
   "metadata": {},
   "outputs": [
    {
     "data": {
      "text/plain": [
       "[('a', 1),\n",
       " ('a', 2),\n",
       " ('a', 3),\n",
       " ('b', 1),\n",
       " ('b', 2),\n",
       " ('b', 3),\n",
       " ('c', 1),\n",
       " ('c', 2),\n",
       " ('c', 3),\n",
       " ('d', 1),\n",
       " ('d', 2),\n",
       " ('d', 3)]"
      ]
     },
     "execution_count": 312,
     "metadata": {},
     "output_type": "execute_result"
    }
   ],
   "source": [
    "[(i,j) for i in list1 for j in list2]"
   ]
  },
  {
   "cell_type": "markdown",
   "id": "28e1dd87",
   "metadata": {},
   "source": [
    "34. Write a program that calculates the mean, median, and mode of a list of numbers using list\n",
    "comprehension."
   ]
  },
  {
   "cell_type": "raw",
   "id": "33606184",
   "metadata": {},
   "source": [
    "The mean (average) of a data set \n",
    "The median is the middle value when a data set is ordered from least to greatest. \n",
    "The mode is the number that occurs most often in a data set."
   ]
  },
  {
   "cell_type": "code",
   "execution_count": 43,
   "id": "fa1231d6",
   "metadata": {},
   "outputs": [],
   "source": [
    "listx =[0, 1, 4, 20, 12, 3, 44, 4, 15, 53, 86, 7, 17, 7, 88, 19,0, 19,0,1]"
   ]
  },
  {
   "cell_type": "code",
   "execution_count": 44,
   "id": "1af8dc94",
   "metadata": {},
   "outputs": [
    {
     "data": {
      "text/plain": [
       "20"
      ]
     },
     "execution_count": 44,
     "metadata": {},
     "output_type": "execute_result"
    }
   ],
   "source": [
    "length = len(listx)\n",
    "length"
   ]
  },
  {
   "cell_type": "code",
   "execution_count": 45,
   "id": "a4b072f8",
   "metadata": {},
   "outputs": [
    {
     "data": {
      "text/plain": [
       "20.0"
      ]
     },
     "execution_count": 45,
     "metadata": {},
     "output_type": "execute_result"
    }
   ],
   "source": [
    "mean = sum(i for i in listx)/len(listx)\n",
    "mean"
   ]
  },
  {
   "cell_type": "code",
   "execution_count": 57,
   "id": "dcfa68ac",
   "metadata": {},
   "outputs": [
    {
     "data": {
      "text/plain": [
       "[0, 0, 0, 1, 1, 3, 4, 4, 7, 7, 12, 15, 17, 19, 19, 20, 44, 53, 86, 88]"
      ]
     },
     "execution_count": 57,
     "metadata": {},
     "output_type": "execute_result"
    }
   ],
   "source": [
    "listx.sort()\n",
    "listx"
   ]
  },
  {
   "cell_type": "code",
   "execution_count": 46,
   "id": "800f13a8",
   "metadata": {
    "scrolled": true
   },
   "outputs": [
    {
     "data": {
      "text/plain": [
       "[69.5]"
      ]
     },
     "execution_count": 46,
     "metadata": {},
     "output_type": "execute_result"
    }
   ],
   "source": [
    "[listx[length//2+1]  if length %2 !=0 else (listx[length//2]+listx[(length//2)-1])/2]"
   ]
  },
  {
   "cell_type": "code",
   "execution_count": 53,
   "id": "94117b75",
   "metadata": {},
   "outputs": [
    {
     "data": {
      "text/plain": [
       "[3, 3, 3, 2, 2, 1, 2, 2, 2, 2, 1, 1, 1, 2, 2, 1, 1, 1, 1, 1]"
      ]
     },
     "execution_count": 53,
     "metadata": {},
     "output_type": "execute_result"
    }
   ],
   "source": [
    "[count:= listx.count(i) for i in listx]"
   ]
  },
  {
   "cell_type": "code",
   "execution_count": 65,
   "id": "e9611867",
   "metadata": {},
   "outputs": [
    {
     "data": {
      "text/plain": [
       "(19, 1)"
      ]
     },
     "execution_count": 65,
     "metadata": {},
     "output_type": "execute_result"
    }
   ],
   "source": [
    "for i in range(0,len(listx)):\n",
    "    c = listx.count(listx[i])\n",
    "i,c\n"
   ]
  },
  {
   "cell_type": "code",
   "execution_count": null,
   "id": "0972cd85",
   "metadata": {},
   "outputs": [],
   "source": []
  },
  {
   "cell_type": "code",
   "execution_count": null,
   "id": "1c167b82",
   "metadata": {},
   "outputs": [],
   "source": []
  },
  {
   "cell_type": "markdown",
   "id": "c1f49411",
   "metadata": {},
   "source": [
    "35. Create a program that generates Pascal's triangle up to a specified number of rows using list\n",
    "comprehension.\n"
   ]
  },
  {
   "cell_type": "code",
   "execution_count": 290,
   "id": "e9c2f71e",
   "metadata": {
    "scrolled": true
   },
   "outputs": [
    {
     "name": "stdout",
     "output_type": "stream",
     "text": [
      "      1 \n",
      "     1 1 \n",
      "    1 2 1 \n",
      "   1 3 3 1 \n",
      "  1 4 6 4 1 \n"
     ]
    }
   ],
   "source": [
    "from math import factorial\n",
    "\n",
    "#Create left Spacing\n",
    "for i in range(n):\n",
    "    for j in range(n-i+1):\n",
    "        print(end=\" \")\n",
    "        \n",
    "    for j in range(i+1):\n",
    "        \n",
    "        print(factorial(i)//(factorial(j)*factorial(i-j)), end = \" \")\n",
    " #new line   \n",
    "    print() \n",
    "\n",
    " \n"
   ]
  },
  {
   "cell_type": "markdown",
   "id": "78026a6e",
   "metadata": {},
   "source": [
    "36. Develop a program that calculates the sum of the digits of a factorial of numbers from 1 to 5 using list\n",
    "comprehension."
   ]
  },
  {
   "cell_type": "code",
   "execution_count": 124,
   "id": "5dadb77f",
   "metadata": {},
   "outputs": [],
   "source": [
    "def fact(n):\n",
    "    factorial =1\n",
    "    for i in range(1,(n+1)):\n",
    "        factorial = factorial *i\n",
    "    return factorial"
   ]
  },
  {
   "cell_type": "code",
   "execution_count": 128,
   "id": "5586bc18",
   "metadata": {},
   "outputs": [
    {
     "data": {
      "text/plain": [
       "153"
      ]
     },
     "execution_count": 128,
     "metadata": {},
     "output_type": "execute_result"
    }
   ],
   "source": [
    "sum([fact(i) for i in range(1,6)])"
   ]
  },
  {
   "cell_type": "code",
   "execution_count": 129,
   "id": "dde8a026",
   "metadata": {},
   "outputs": [
    {
     "data": {
      "text/plain": [
       "153"
      ]
     },
     "execution_count": 129,
     "metadata": {},
     "output_type": "execute_result"
    }
   ],
   "source": [
    "import math\n",
    "sum([math.factorial(i) for i in range(1,6) ])"
   ]
  },
  {
   "cell_type": "markdown",
   "id": "ac8320b9",
   "metadata": {},
   "source": [
    "37. Write a program that finds the longest word in a sentence using list comprehension."
   ]
  },
  {
   "cell_type": "code",
   "execution_count": 73,
   "id": "3cd606d5",
   "metadata": {},
   "outputs": [],
   "source": [
    "s= \"I am studying Data Science from PWSkills I\""
   ]
  },
  {
   "cell_type": "code",
   "execution_count": 130,
   "id": "a5099511",
   "metadata": {},
   "outputs": [
    {
     "data": {
      "text/plain": [
       "['studying', 'PWSkills']"
      ]
     },
     "execution_count": 130,
     "metadata": {},
     "output_type": "execute_result"
    }
   ],
   "source": [
    "longest_word=[i for i in s.split() if len(i) == max(len(i) for i in s.split())]\n",
    "longest_word"
   ]
  },
  {
   "cell_type": "markdown",
   "id": "99cb7157",
   "metadata": {},
   "source": [
    "38. Create a program that filters a list of strings to include only those with more than three vowels using list\n",
    "comprehension."
   ]
  },
  {
   "cell_type": "code",
   "execution_count": 222,
   "id": "42b89abb",
   "metadata": {},
   "outputs": [],
   "source": [
    "string_list =[\"learning\", \"DaatAaA\", \"PWSKILLS\", \"alphaabEEt\", \"kaveri\",\"ashaaa\",\"lataa\", \"pushpaaa\"]"
   ]
  },
  {
   "cell_type": "code",
   "execution_count": 223,
   "id": "640e5c34",
   "metadata": {},
   "outputs": [
    {
     "data": {
      "text/plain": [
       "['DaatAaA', 'alphaabEEt', 'ashaaa', 'pushpaaa']"
      ]
     },
     "execution_count": 223,
     "metadata": {},
     "output_type": "execute_result"
    }
   ],
   "source": [
    "vowels_more_than_three =[]\n",
    "for word in string_list:\n",
    "    count = 0 \n",
    "    for i in word: \n",
    "        if i in 'aeiouAEIOU': \n",
    "            count += 1\n",
    "    if count>3:\n",
    "        vowels_more_than_three.append(word)\n",
    "\n",
    "        \n",
    "vowels_more_than_three"
   ]
  },
  {
   "cell_type": "code",
   "execution_count": 268,
   "id": "7325a6df",
   "metadata": {},
   "outputs": [
    {
     "data": {
      "text/plain": [
       "['DaatAaA', 'alphaabEEt', 'ashaaa', 'pushpaaa']"
      ]
     },
     "execution_count": 268,
     "metadata": {},
     "output_type": "execute_result"
    }
   ],
   "source": [
    "list_morethan3vowels =[]\n",
    "for word in string_list:\n",
    "    vowel_count = len([i for i in word if i.lower() in [\"a\",\"e\",\"i\",\"o\",\"u\"]])\n",
    "    if vowel_count >3:\n",
    "        list_morethan3vowels.append(word)\n",
    "list_morethan3vowels"
   ]
  },
  {
   "cell_type": "markdown",
   "id": "7a24a36d",
   "metadata": {},
   "source": [
    "39. Develop a program that calculates the sum of the digits of numbers from 1 to 1000 using list\n",
    "comprehension."
   ]
  },
  {
   "cell_type": "code",
   "execution_count": 69,
   "id": "59149122",
   "metadata": {},
   "outputs": [
    {
     "data": {
      "text/plain": [
       "499500"
      ]
     },
     "execution_count": 69,
     "metadata": {},
     "output_type": "execute_result"
    }
   ],
   "source": [
    "sum([i for i in range(1,1000)])"
   ]
  },
  {
   "cell_type": "markdown",
   "id": "29466250",
   "metadata": {},
   "source": [
    "40. Write a program that generates a list of prime palindromic numbers using list comprehension."
   ]
  },
  {
   "cell_type": "code",
   "execution_count": 70,
   "id": "747953e1",
   "metadata": {},
   "outputs": [],
   "source": [
    "prime =[]\n",
    "for i in range(11,1000):\n",
    "    for j in range(11,1000):\n",
    "        if i%j == 0:\n",
    "            break\n",
    "    if i == j:\n",
    "        prime.append(i)"
   ]
  },
  {
   "cell_type": "code",
   "execution_count": 71,
   "id": "8a4ed5af",
   "metadata": {},
   "outputs": [
    {
     "name": "stdout",
     "output_type": "stream",
     "text": [
      "[11, 12, 13, 14, 15, 16, 17, 18, 19, 20, 21, 23, 25, 27, 29, 31, 35, 37, 41, 43, 47, 49, 53, 59, 61, 67, 71, 73, 79, 83, 89, 97, 101, 103, 107, 109, 113, 127, 131, 137, 139, 149, 151, 157, 163, 167, 173, 179, 181, 191, 193, 197, 199, 211, 223, 227, 229, 233, 239, 241, 251, 257, 263, 269, 271, 277, 281, 283, 293, 307, 311, 313, 317, 331, 337, 347, 349, 353, 359, 367, 373, 379, 383, 389, 397, 401, 409, 419, 421, 431, 433, 439, 443, 449, 457, 461, 463, 467, 479, 487, 491, 499, 503, 509, 521, 523, 541, 547, 557, 563, 569, 571, 577, 587, 593, 599, 601, 607, 613, 617, 619, 631, 641, 643, 647, 653, 659, 661, 673, 677, 683, 691, 701, 709, 719, 727, 733, 739, 743, 751, 757, 761, 769, 773, 787, 797, 809, 811, 821, 823, 827, 829, 839, 853, 857, 859, 863, 877, 881, 883, 887, 907, 911, 919, 929, 937, 941, 947, 953, 967, 971, 977, 983, 991, 997]\n"
     ]
    }
   ],
   "source": [
    "print(prime)"
   ]
  },
  {
   "cell_type": "code",
   "execution_count": 72,
   "id": "d0e43b20",
   "metadata": {},
   "outputs": [
    {
     "data": {
      "text/plain": [
       "[11, 101, 131, 151, 181, 191, 313, 353, 373, 383, 727, 757, 787, 797, 919, 929]"
      ]
     },
     "execution_count": 72,
     "metadata": {},
     "output_type": "execute_result"
    }
   ],
   "source": [
    "[i for i in prime if str(i) == str(i)[::-1]]"
   ]
  },
  {
   "cell_type": "code",
   "execution_count": null,
   "id": "313c795b",
   "metadata": {},
   "outputs": [],
   "source": []
  },
  {
   "cell_type": "code",
   "execution_count": null,
   "id": "fcc7455a",
   "metadata": {},
   "outputs": [],
   "source": []
  }
 ],
 "metadata": {
  "kernelspec": {
   "display_name": "Python 3 (ipykernel)",
   "language": "python",
   "name": "python3"
  },
  "language_info": {
   "codemirror_mode": {
    "name": "ipython",
    "version": 3
   },
   "file_extension": ".py",
   "mimetype": "text/x-python",
   "name": "python",
   "nbconvert_exporter": "python",
   "pygments_lexer": "ipython3",
   "version": "3.10.9"
  }
 },
 "nbformat": 4,
 "nbformat_minor": 5
}
